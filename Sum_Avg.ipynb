{
  "nbformat": 4,
  "nbformat_minor": 0,
  "metadata": {
    "colab": {
      "name": "Sum-Avg.ipynb",
      "provenance": [],
      "collapsed_sections": []
    },
    "kernelspec": {
      "name": "python3",
      "display_name": "Python 3"
    },
    "language_info": {
      "name": "python"
    }
  },
  "cells": [
    {
      "cell_type": "markdown",
      "source": [
        "1) **Program to find the sum and average of elements in a list**"
      ],
      "metadata": {
        "id": "oHao7BwbDrVP"
      }
    },
    {
      "cell_type": "code",
      "source": [
        "l=[]\n",
        "n=int(input(\"Enter the number of elements in the list\"))\n",
        "print(\"Enter the elements:\")\n",
        "for i in range(n):\n",
        "  x=int(input())\n",
        "  l.append(x) \n",
        "print(\"Sum of elements in the list=\",sum(l))   \n",
        "avg=sum(l)/n\n",
        "print(\"Average of element in the list=\",avg) \n",
        "\n",
        "\n"
      ],
      "metadata": {
        "colab": {
          "base_uri": "https://localhost:8080/"
        },
        "id": "ew_HjILtD5Ye",
        "outputId": "32a1b747-83b6-4af1-ec04-701faf7308ce"
      },
      "execution_count": null,
      "outputs": [
        {
          "output_type": "stream",
          "name": "stdout",
          "text": [
            "Enter the number of elements in the list5\n",
            "Enter the elements:\n",
            "1\n",
            "2\n",
            "3\n",
            "4\n",
            "5\n",
            "Sum of elements in the list= 15\n",
            "Average of element in the list= 3.0\n"
          ]
        }
      ]
    }
  ]
}