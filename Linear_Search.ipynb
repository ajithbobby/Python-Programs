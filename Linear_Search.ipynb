{
  "nbformat": 4,
  "nbformat_minor": 0,
  "metadata": {
    "colab": {
      "name": "Linear_Search.ipynb",
      "provenance": [],
      "collapsed_sections": []
    },
    "kernelspec": {
      "name": "python3",
      "display_name": "Python 3"
    },
    "language_info": {
      "name": "python"
    }
  },
  "cells": [
    {
      "cell_type": "markdown",
      "source": [
        "1) **Perform linear search on a list**"
      ],
      "metadata": {
        "id": "vcDsALIPMHsc"
      }
    },
    {
      "cell_type": "code",
      "source": [
        "l=[]\n",
        "n=int(input(\"Enter the number of elements in the list\"))\n",
        "print(\"Enter elements\")\n",
        "for i in range(n):\n",
        "  x=int(input())\n",
        "  l.append(x)\n",
        "search=int(input(\"Enter the search key:\"))  \n",
        "if search in l:\n",
        "  print(\"Element found\")\n",
        "else:\n",
        "  print(\"Element not found\")  \n",
        "\n"
      ],
      "metadata": {
        "colab": {
          "base_uri": "https://localhost:8080/"
        },
        "id": "eiVEIC7kNZMD",
        "outputId": "2aa86c13-a9d8-44ec-a77b-18e4ff112da3"
      },
      "execution_count": null,
      "outputs": [
        {
          "output_type": "stream",
          "name": "stdout",
          "text": [
            "Enter the number of elements in the list4\n",
            "Enter elements\n",
            "1\n",
            "2\n",
            "3\n",
            "4\n",
            "Enter the search key:3\n",
            "Element found\n"
          ]
        }
      ]
    }
  ]
}