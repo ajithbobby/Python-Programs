{
  "nbformat": 4,
  "nbformat_minor": 0,
  "metadata": {
    "colab": {
      "name": "Tuple_Assignment.ipynb",
      "provenance": [],
      "collapsed_sections": []
    },
    "kernelspec": {
      "name": "python3",
      "display_name": "Python 3"
    },
    "language_info": {
      "name": "python"
    }
  },
  "cells": [
    {
      "cell_type": "markdown",
      "source": [
        "1) **Write a program to rearrange the values in the variables ‘a’ and ‘b’ so that ‘a’ holds the largest of two values and ‘b’ holds the smallest of the two values. Use tuple assignment.**"
      ],
      "metadata": {
        "id": "DuElIEbvl9Qy"
      }
    },
    {
      "cell_type": "code",
      "execution_count": null,
      "metadata": {
        "colab": {
          "base_uri": "https://localhost:8080/"
        },
        "id": "kkZhOa5Sh8HE",
        "outputId": "0e2986de-80f5-4cd0-83f5-587a2e568f83"
      },
      "outputs": [
        {
          "output_type": "stream",
          "name": "stdout",
          "text": [
            "Enter the value 1 :5\n",
            "Enter the value 2 :7\n",
            "\n",
            "Tuple at first :\n",
            "\n",
            "(5, 7)\n",
            "\n",
            "Tuple now :\n",
            "\n",
            "(7, 5)\n"
          ]
        }
      ],
      "source": [
        "a = int(input(\"Enter the value 1 :\"))\n",
        "b = int(input(\"Enter the value 2 :\"))\n",
        "tup = (a,b)\n",
        "print(\"\\nTuple at first :\\n\")\n",
        "print(tup)\n",
        "a = max(tup)\n",
        "b = min(tup)\n",
        "tup = (a,b)\n",
        "print(\"\\nTuple now :\\n\")\n",
        "print(tup)"
      ]
    }
  ]
}