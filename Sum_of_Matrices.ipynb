{
  "nbformat": 4,
  "nbformat_minor": 0,
  "metadata": {
    "colab": {
      "name": "Sum_of_Matrices.ipynb",
      "provenance": [],
      "collapsed_sections": []
    },
    "kernelspec": {
      "name": "python3",
      "display_name": "Python 3"
    },
    "language_info": {
      "name": "python"
    }
  },
  "cells": [
    {
      "cell_type": "markdown",
      "source": [
        "1)**Program to read two matrices and find its sum(list)**"
      ],
      "metadata": {
        "id": "sl5PzsG1HmkF"
      }
    },
    {
      "cell_type": "code",
      "source": [
        "M=[]\n",
        "m=int(input(\"Enter the row size of matrix M:\"))\n",
        "n=int(input(\"Enter the column size of matrix M:\"))\n",
        "for i in range(m):\n",
        "  N=[]\n",
        "  for j in range(n):\n",
        "    d=int(input(\"Enter the elements\"))\n",
        "    N.append(d)\n",
        "  M.append(N)\n",
        "print(M)    \n",
        "A=[]\n",
        "p=int(input(\"Enter the row size of matrix A:\"))\n",
        "q=int(input(\"Enter the column size of matrix A:\"))\n",
        "for k in range(p):\n",
        "  Q=[]\n",
        "  for r in range(q):\n",
        "     e=int(input(\"Enter the elements\"))\n",
        "     Q.append(e)\n",
        "  A.append(Q)\n",
        "print(A)\n",
        "if(m!=p and n!=q):\n",
        "  print(\"Matrix Addition is not possible\")  \n",
        "else:\n",
        "  s=[]\n",
        "  for i in range(m):\n",
        "     s1=[]\n",
        "     for j in range(n):\n",
        "       s1.append(M[i][j]+A[i][j])\n",
        "     s.append(s1)\n",
        "print(\"Sum of Two matrices M and N:\",s)          "
      ],
      "metadata": {
        "colab": {
          "base_uri": "https://localhost:8080/"
        },
        "id": "dBK07d74HtRl",
        "outputId": "bb47f8c8-54c4-4888-b68e-03aa4ae2d0f6"
      },
      "execution_count": null,
      "outputs": [
        {
          "output_type": "stream",
          "name": "stdout",
          "text": [
            "Enter the row size of matrix M:3\n",
            "Enter the column size of matrix M:3\n",
            "Enter the elements1\n",
            "Enter the elements2\n",
            "Enter the elements2\n",
            "Enter the elements1\n",
            "Enter the elements3\n",
            "Enter the elements4\n",
            "Enter the elements5\n",
            "Enter the elements4\n",
            "Enter the elements3\n",
            "[[1, 2, 2], [1, 3, 4], [5, 4, 3]]\n",
            "Enter the row size of matrix A:3\n",
            "Enter the column size of matrix A:3\n",
            "Enter the elements3\n",
            "Enter the elements4\n",
            "Enter the elements5\n",
            "Enter the elements6\n",
            "Enter the elements7\n",
            "Enter the elements8\n",
            "Enter the elements6\n",
            "Enter the elements5\n",
            "Enter the elements4\n",
            "[[3, 4, 5], [6, 7, 8], [6, 5, 4]]\n",
            "Sum of Two matrices M and N: [[4, 6, 7], [7, 10, 12], [11, 9, 7]]\n"
          ]
        }
      ]
    }
  ]
}